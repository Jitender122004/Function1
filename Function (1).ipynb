{
  "nbformat": 4,
  "nbformat_minor": 0,
  "metadata": {
    "colab": {
      "private_outputs": true,
      "provenance": []
    },
    "kernelspec": {
      "name": "python3",
      "display_name": "Python 3"
    },
    "language_info": {
      "name": "python"
    }
  },
  "cells": [
    {
      "cell_type": "markdown",
      "source": [
        "PRACTICAL QUESTION"
      ],
      "metadata": {
        "id": "9WcKEG6_oT6f"
      }
    },
    {
      "cell_type": "markdown",
      "source": [
        "Ques1) Write a Python function that takes a list of numbers as input and returns the sum of all even numbers in\n",
        "the list."
      ],
      "metadata": {
        "id": "v_O1fqIIobhG"
      }
    },
    {
      "cell_type": "code",
      "source": [
        "def sum_of_even(a):\n",
        "    sum=0\n",
        "    for i in a:\n",
        "        if i % 2==0:\n",
        "            sum=sum+i\n",
        "    return sum\n",
        "\n"
      ],
      "metadata": {
        "id": "E9rcI1rSoqr-"
      },
      "execution_count": null,
      "outputs": []
    },
    {
      "cell_type": "code",
      "source": [
        "sum_of_even([1,4,5,6,7,8,10])"
      ],
      "metadata": {
        "id": "Fu8F7eduv6wP"
      },
      "execution_count": null,
      "outputs": []
    },
    {
      "cell_type": "markdown",
      "source": [
        " Ques2) Create a Python function that accepts a string and returns the reverse of that string."
      ],
      "metadata": {
        "id": "KVE8q95IR6nM"
      }
    },
    {
      "cell_type": "code",
      "source": [
        "def reverse_of_string(text):\n",
        "    return text[::-1]\n",
        "reverse_of_string(\"jitender\")"
      ],
      "metadata": {
        "id": "ckt7wWnlR9Pk"
      },
      "execution_count": null,
      "outputs": []
    },
    {
      "cell_type": "markdown",
      "source": [
        "Ques3)Implement a Python function that takes a list of integers and returns a new list containing the squares of each number"
      ],
      "metadata": {
        "id": "nDXcYAAfkISm"
      }
    },
    {
      "cell_type": "code",
      "source": [
        "def square_of_no(num):\n",
        "  lis=[]\n",
        "  for i in num:\n",
        "    lis.append(i**2)\n",
        "  return lis\n"
      ],
      "metadata": {
        "id": "tPWSxiSWgsoB"
      },
      "execution_count": null,
      "outputs": []
    },
    {
      "cell_type": "code",
      "source": [
        "square_of_no([1,2,3,4,5])"
      ],
      "metadata": {
        "id": "6utU1vA4iyGn"
      },
      "execution_count": null,
      "outputs": []
    },
    {
      "cell_type": "markdown",
      "source": [
        "Ques4)Write a Python function that checks if a given number is prime or not from 1 to 200."
      ],
      "metadata": {
        "id": "j6xmrvRlj_xT"
      }
    },
    {
      "cell_type": "code",
      "source": [
        "def is_prime(num):\n",
        "    if num <= 1:\n",
        "        return False  # 0 and 1 are not prime\n",
        "    for i in range(2, int(num ** 0.5) + 1):\n",
        "        if num % i == 0:\n",
        "            return False  # Divisible by some number\n",
        "    return True  # Prime if no divisors found\n",
        "\n",
        "# Check and print primes from 1 to 200\n",
        "for number in range(1, 201):\n",
        "    if is_prime(number):\n",
        "        print(f\"{number} is a Prime number\")\n",
        "    else:\n",
        "        print(f\"{number} is not a Prime number\")\n"
      ],
      "metadata": {
        "id": "sZhwq86JuvV_"
      },
      "execution_count": null,
      "outputs": []
    },
    {
      "cell_type": "markdown",
      "source": [
        "Ques5)Create an iterator class in Python that generates the Fibonacci sequence up to a specified number of terms."
      ],
      "metadata": {
        "id": "hWsl_pn3PQIR"
      }
    },
    {
      "cell_type": "code",
      "source": [
        "def fibo(n):\n",
        "  a=0\n",
        "  b=1\n",
        "  for  i in range(n):\n",
        "    yield a\n",
        "    a,b=b,a+b\n"
      ],
      "metadata": {
        "id": "onzWg703R0ra"
      },
      "execution_count": null,
      "outputs": []
    },
    {
      "cell_type": "code",
      "source": [
        "f=fibo(21)\n",
        "f"
      ],
      "metadata": {
        "id": "Bp7IeWtZVU6-"
      },
      "execution_count": null,
      "outputs": []
    },
    {
      "cell_type": "code",
      "source": [
        "next(f)"
      ],
      "metadata": {
        "id": "S3-FTbjhVVOL"
      },
      "execution_count": null,
      "outputs": []
    },
    {
      "cell_type": "code",
      "source": [
        "next(f)"
      ],
      "metadata": {
        "id": "3XycL2RAVl8H"
      },
      "execution_count": null,
      "outputs": []
    },
    {
      "cell_type": "code",
      "source": [
        "next(f)"
      ],
      "metadata": {
        "id": "sXXqQeL9Vl_-"
      },
      "execution_count": null,
      "outputs": []
    },
    {
      "cell_type": "code",
      "source": [
        "next(f)"
      ],
      "metadata": {
        "id": "YckTU_JBVmIP"
      },
      "execution_count": null,
      "outputs": []
    },
    {
      "cell_type": "code",
      "source": [
        "next(f)"
      ],
      "metadata": {
        "id": "vfImrKLzVmL4"
      },
      "execution_count": null,
      "outputs": []
    },
    {
      "cell_type": "code",
      "source": [
        "next(f)"
      ],
      "metadata": {
        "id": "B7t1CnzQVmTH"
      },
      "execution_count": null,
      "outputs": []
    },
    {
      "cell_type": "markdown",
      "source": [
        "Ques6) write a generator function in Python that yields the powers of 2 up to a given exponent."
      ],
      "metadata": {
        "id": "Yl94jTHRWGSy"
      }
    },
    {
      "cell_type": "code",
      "source": [
        "def power(num):\n",
        "  for i in range(num):\n",
        "    yield 2**i"
      ],
      "metadata": {
        "id": "iCJ5CwjvWdgo"
      },
      "execution_count": null,
      "outputs": []
    },
    {
      "cell_type": "code",
      "source": [
        "power(6)"
      ],
      "metadata": {
        "id": "54DBu2g_XGu-"
      },
      "execution_count": null,
      "outputs": []
    },
    {
      "cell_type": "code",
      "source": [
        "gen=power(6)\n",
        "gen"
      ],
      "metadata": {
        "id": "mRLaBmmYXG7E"
      },
      "execution_count": null,
      "outputs": []
    },
    {
      "cell_type": "code",
      "source": [
        "next(gen)"
      ],
      "metadata": {
        "id": "SigiFHrnXHGi"
      },
      "execution_count": null,
      "outputs": []
    },
    {
      "cell_type": "code",
      "source": [
        "next(gen)"
      ],
      "metadata": {
        "id": "mrRHs5ZDXHSi"
      },
      "execution_count": null,
      "outputs": []
    },
    {
      "cell_type": "code",
      "source": [
        "next(gen)"
      ],
      "metadata": {
        "id": "sYLaoxrde4XZ"
      },
      "execution_count": null,
      "outputs": []
    },
    {
      "cell_type": "code",
      "source": [
        "next(gen)"
      ],
      "metadata": {
        "id": "2evHgJs5e4dx"
      },
      "execution_count": null,
      "outputs": []
    },
    {
      "cell_type": "code",
      "source": [
        "next(gen)"
      ],
      "metadata": {
        "id": "Jjnn6hoAe4gS"
      },
      "execution_count": null,
      "outputs": []
    },
    {
      "cell_type": "code",
      "source": [
        "next(gen)"
      ],
      "metadata": {
        "id": "rW96IApQe4im"
      },
      "execution_count": null,
      "outputs": []
    },
    {
      "cell_type": "markdown",
      "source": [
        "Ques7) Implement a generator function that reads a file line by line and yields each line as a string."
      ],
      "metadata": {
        "id": "gJ3RdY5UkuIN"
      }
    },
    {
      "cell_type": "code",
      "source": [
        "def read_file_line_by_line(file_path):\n",
        "    with open(file_path, 'r') as file:\n",
        "        for line in file:\n",
        "            yield line.strip()  # Remove trailing newline and spaces\n"
      ],
      "metadata": {
        "id": "ht7prsEikw98"
      },
      "execution_count": null,
      "outputs": []
    },
    {
      "cell_type": "code",
      "source": [
        "# Replace 'example.txt' with your file name\n",
        "for line in read_file_line_by_line('example.txt'):\n",
        "    print(line)\n"
      ],
      "metadata": {
        "id": "n1DUvT4peb66"
      },
      "execution_count": null,
      "outputs": []
    },
    {
      "cell_type": "markdown",
      "source": [
        "Ques8)Use a lambda function in Python to sort a list of tuples based on the second element of each tuple."
      ],
      "metadata": {
        "id": "Qg_pQ4G1kxUx"
      }
    },
    {
      "cell_type": "code",
      "source": [
        "lis=[(\"jitnder\",2),(\"ganesh\",3),(\"prem\",1)]\n",
        "sorted_list=sorted(lis,key=lambda x:x[1])\n",
        "sorted_list"
      ],
      "metadata": {
        "id": "z8uv5RBxmc7x"
      },
      "execution_count": null,
      "outputs": []
    },
    {
      "cell_type": "markdown",
      "source": [
        "Ques9) Write a Python program that uses `map()` to convert a list of temperatures from Celsius to Fahrenheit."
      ],
      "metadata": {
        "id": "Tl-Ot-w9k6Sh"
      }
    },
    {
      "cell_type": "code",
      "source": [
        "def c_to_f(celsius_temp):\n",
        "  return (celsius_temp*9/5)+32\n",
        "celsius=[37,38,39,40,31]\n",
        "list(map(c_to_f,celsius))"
      ],
      "metadata": {
        "id": "nS8Aolg5k_pS"
      },
      "execution_count": null,
      "outputs": []
    },
    {
      "cell_type": "markdown",
      "source": [
        "Ques10). Create a Python program that uses `filter()` to remove all the vowels from a given string"
      ],
      "metadata": {
        "id": "Kay4BZQLlAeR"
      }
    },
    {
      "cell_type": "code",
      "source": [
        "def remove_vowels(s):\n",
        "  vowels='aeiouAEIOU'\n",
        "  return \"\".join(filter(lambda x : x not in vowels,s))\n",
        "\n",
        "text=\"Jitender singh rawat\"\n",
        "result=remove_vowels(text)\n",
        "print(result)\n",
        "\n",
        "\n",
        "\n"
      ],
      "metadata": {
        "id": "npXqW5sBvvMU"
      },
      "execution_count": null,
      "outputs": []
    },
    {
      "cell_type": "markdown",
      "source": [
        "Ques11) Imagine an accounting routine used in a book shop. It works on a list with sublists, which look like this:\n",
        "order number  Book Title and Author              Quantity    pice per item\n",
        "34587         Learning Python ,Mark luitz        4           48.95\n",
        "98762         programming python ,mark lutz       5          58.80\n",
        "77226         Head first python,paul barry        3          32.95\n",
        "88112         Einfuhrung in python 3 Bernd Klein  3          24.99\n",
        "\n",
        "\n",
        "\n",
        "Write a Python program, which returns a list with 2-tuples. Each tuple consists of the order number and the product of the price per item and the quantity. The product should be increased by 10,- € if the value of the\n",
        "order is smaller than 100,00 €.\n",
        "\n",
        "Write a Python program using lambda and map."
      ],
      "metadata": {
        "id": "NfdjUyVglG08"
      }
    },
    {
      "cell_type": "code",
      "source": [
        "orders = [\n",
        "    [34587, \"Learning Python, Mark Lutz\", 4, 40.95],\n",
        "    [98762, \"Programming Python, Mark Lutz\", 5, 56.80],\n",
        "    [77226, \"Head First Python, Paul Barry\", 3, 32.95],\n",
        "    [88112, \"Einführung in Python3, Bernd Klein\", 3, 24.99]\n",
        "]\n",
        "\n",
        "\n",
        "# Use map with lambda to calculate total price\n",
        "list(map(lambda x:(x[0],x[2]*x[3]+10 if x[2]*x[3]<100.00 else x[2]*x[3]),orders))"
      ],
      "metadata": {
        "id": "Dp6nr4_-26_S"
      },
      "execution_count": null,
      "outputs": []
    },
    {
      "cell_type": "markdown",
      "source": [
        "THEORY QUESTION"
      ],
      "metadata": {
        "id": "A4Dowg40lDsc"
      }
    },
    {
      "cell_type": "markdown",
      "source": [
        "Ques1)What is the difference between a function and a method in Pytho"
      ],
      "metadata": {
        "id": "eCZ2ULzalPur"
      }
    },
    {
      "cell_type": "markdown",
      "source": [
        "[link text](https://drive.google.com/file/d/1DeDsYUT_RPWT7PoQky4CL2zlyVo7xC_C/view?usp=drive_link)"
      ],
      "metadata": {
        "id": "Rcsye2esTFO5"
      }
    },
    {
      "cell_type": "markdown",
      "source": [
        "2.)Explain the concept of function arguments and parameters in Python"
      ],
      "metadata": {
        "id": "9mzUbnPNnEQj"
      }
    },
    {
      "cell_type": "code",
      "source": [],
      "metadata": {
        "id": "WeQ28XfST16r"
      },
      "execution_count": null,
      "outputs": []
    },
    {
      "cell_type": "code",
      "source": [],
      "metadata": {
        "id": "Cw27_JGpT13G"
      },
      "execution_count": null,
      "outputs": []
    },
    {
      "cell_type": "code",
      "source": [
        "# Function definition\n",
        "def greet(name):     # 'name' is a parameter\n",
        "    print(\"Hello\", name)\n",
        "\n",
        "# Function call\n",
        "greet(\"Jitu\")         # \"Jitu\" is an argument\n"
      ],
      "metadata": {
        "id": "2N32ThHmnoUN"
      },
      "execution_count": null,
      "outputs": []
    },
    {
      "cell_type": "markdown",
      "source": [
        "![WhatsApp Image 2025-04-08 at 23.58.24_73f58cf4.jpg](data:image/jpeg;base64,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)Here, name is a parameter in the function definition.\n",
        "\n",
        "\"Jitu\" is an argument passed during the function call."
      ],
      "metadata": {
        "id": "amALBD90nvGU"
      }
    },
    {
      "cell_type": "markdown",
      "source": [
        ":3)What are the different ways to define and call a function in Python?\n",
        "\n"
      ],
      "metadata": {
        "id": "4JXJJ3U_n2Ci"
      }
    },
    {
      "cell_type": "markdown",
      "source": [
        "n Python, there are several ways to define and call a function, depending on your needs (e.g., standard functions, anonymous functions, functions with arguments, etc.)."
      ],
      "metadata": {
        "id": "2fUL0-Rp0pZY"
      }
    },
    {
      "cell_type": "markdown",
      "source": [
        "1. Defining Functions\n",
        "a) Standard Function (using def)\n",
        "python\n",
        "Copy code\n"
      ],
      "metadata": {
        "id": "KYYBuDZx1Fgp"
      }
    },
    {
      "cell_type": "code",
      "source": [
        "def greet():\n",
        "    print(\"Hello!\")\n"
      ],
      "metadata": {
        "id": "AwU8W5_P0wOn"
      },
      "execution_count": null,
      "outputs": []
    },
    {
      "cell_type": "markdown",
      "source": [
        "b) Function with Parameters"
      ],
      "metadata": {
        "id": "lX_IJXi31WeD"
      }
    },
    {
      "cell_type": "code",
      "source": [
        "def greet(name):\n",
        "    print(f\"Hello, {name}!\")\n"
      ],
      "metadata": {
        "id": "I79VmT8E0wfM"
      },
      "execution_count": null,
      "outputs": []
    },
    {
      "cell_type": "markdown",
      "source": [
        "c)Function with Default Argument"
      ],
      "metadata": {
        "id": "PZ1qfBbY1SZa"
      }
    },
    {
      "cell_type": "code",
      "source": [
        "def greet(name=\"Guest\"):\n",
        "    print(f\"Hello, {name}!\")\n"
      ],
      "metadata": {
        "id": "JBPBQ7ij0xWE"
      },
      "execution_count": null,
      "outputs": []
    },
    {
      "cell_type": "markdown",
      "source": [
        "d) Function with Variable-Length Argument  \n",
        " *args for positional\n",
        "\n",
        "**kwargs for keyword"
      ],
      "metadata": {
        "id": "lG05S_wd1ttv"
      }
    },
    {
      "cell_type": "code",
      "source": [
        "def print_args(*args):\n",
        "    for arg in args:\n",
        "        print(arg)\n",
        "\n",
        "def print_kwargs(**kwargs):\n",
        "    for key, value in kwargs.items():\n",
        "        print(f\"{key}: {value}\")\n"
      ],
      "metadata": {
        "id": "c3tdWLP62LsN"
      },
      "execution_count": null,
      "outputs": []
    },
    {
      "cell_type": "markdown",
      "source": [
        "e.)Lambda Function (Anonymous Function)"
      ],
      "metadata": {
        "id": "RUtxnWmg2R_g"
      }
    },
    {
      "cell_type": "code",
      "source": [
        "square = lambda x: x * x\n"
      ],
      "metadata": {
        "id": "nAaEM0wU2aYO"
      },
      "execution_count": null,
      "outputs": []
    },
    {
      "cell_type": "markdown",
      "source": [
        "f) Recursive Function"
      ],
      "metadata": {
        "id": "qcw0udxK2mmq"
      }
    },
    {
      "cell_type": "code",
      "source": [
        "def factorial(n):\n",
        "    if n == 0:\n",
        "        return 1\n",
        "    return n * factorial(n - 1)\n"
      ],
      "metadata": {
        "id": "frW6pM-f2tcZ"
      },
      "execution_count": null,
      "outputs": []
    },
    {
      "cell_type": "markdown",
      "source": [],
      "metadata": {
        "id": "ugTBxTMtaIHZ"
      }
    },
    {
      "cell_type": "markdown",
      "source": [
        "2)Calling Function\n",
        "\n",
        "a)Standard Cell"
      ],
      "metadata": {
        "id": "nenby51v2wtz"
      }
    },
    {
      "cell_type": "code",
      "source": [
        "greet()\n",
        "greet(\"Jitu\")\n"
      ],
      "metadata": {
        "id": "KFo_pDoc3AAG"
      },
      "execution_count": null,
      "outputs": []
    },
    {
      "cell_type": "markdown",
      "source": [
        "b) call with default argument"
      ],
      "metadata": {
        "id": "W9YGDxLq3HB3"
      }
    },
    {
      "cell_type": "code",
      "source": [
        "greet()            # Uses default\n",
        "greet(\"Alice\")     # Overrides default\n"
      ],
      "metadata": {
        "id": "pfq9da9z3MCN"
      },
      "execution_count": null,
      "outputs": []
    },
    {
      "cell_type": "markdown",
      "source": [
        "c)**Call with *args or kwargs"
      ],
      "metadata": {
        "id": "3C8X_PYV3TPl"
      }
    },
    {
      "cell_type": "code",
      "source": [
        "print_args(1, 2, 3)\n",
        "print_kwargs(name=\"Jitu\", age=20)\n"
      ],
      "metadata": {
        "id": "9nMr51Ep3cke"
      },
      "execution_count": null,
      "outputs": []
    },
    {
      "cell_type": "markdown",
      "source": [
        "d)Calling lambda"
      ],
      "metadata": {
        "id": "dnrYqWNy3gW6"
      }
    },
    {
      "cell_type": "code",
      "source": [
        "print(square(5))  # Output: 25\n"
      ],
      "metadata": {
        "id": "EAsCSE173pyA"
      },
      "execution_count": null,
      "outputs": []
    },
    {
      "cell_type": "markdown",
      "source": [
        "e.) Calling Returned Function (Closure)\n",
        "python\n"
      ],
      "metadata": {
        "id": "xx6GLEt13zKj"
      }
    },
    {
      "cell_type": "code",
      "source": [
        "def outer():\n",
        "    def inner():\n",
        "        print(\"Inside inner\")\n",
        "    return inner\n",
        "\n",
        "func = outer()\n",
        "func()  # Output: Inside inner\n"
      ],
      "metadata": {
        "id": "PnidIrpX36xJ"
      },
      "execution_count": null,
      "outputs": []
    },
    {
      "cell_type": "markdown",
      "source": [
        "\n",
        " Summary Table\n",
        "Function Type\tKeyword\tExample Call\n",
        "Normal Function\tdef\t greet()\n",
        "With Parameters\tdef\tgreet(\"Jitu\")\n",
        "Default Parameters\tdef\tgreet() or greet(\"X\")\n",
        "*args / **kwargs\tdef\tprint_args(1, 2)\n",
        "Lambda Function\tlambda\tsquare(4)\n",
        "Recursive Function\tdef\tfactorial(5)\n",
        "Closure (Function inside function)\tdef\touter()()"
      ],
      "metadata": {
        "id": "l4ImgcqJ4Oiy"
      }
    },
    {
      "cell_type": "markdown",
      "source": [
        "4)What is the purpose of the `return` statement in a Python function?\n",
        "🧾 Purpose of the return Statement in Python\n",
        "The return statement is used in a function to:\n",
        "\n",
        "✅ 1. Send a result back to the caller\n",
        "When a function finishes running, return passes a value back to the place where the function was called."
      ],
      "metadata": {
        "id": "iSuK8NRB5Smu"
      }
    },
    {
      "cell_type": "code",
      "source": [
        "def add(a, b):\n",
        "    return a + b\n",
        "\n",
        "result = add(2, 3)\n",
        "print(result)  # Output: 5\n"
      ],
      "metadata": {
        "id": "cJB6h07S6xeC"
      },
      "execution_count": null,
      "outputs": []
    },
    {
      "cell_type": "markdown",
      "source": [
        "✅ 2. Exit the function early\n",
        "return also immediately ends the function's execution, even if there is more code below it."
      ],
      "metadata": {
        "id": "s2MUyAe_65Cp"
      }
    },
    {
      "cell_type": "code",
      "source": [
        "def check_number(n):\n",
        "    if n > 0:\n",
        "        return \"Positive\"\n",
        "    return \"Not positive\"\n",
        "\n",
        "print(check_number(5))  # Output: Positive\n"
      ],
      "metadata": {
        "id": "lc-Lo1lX66N9"
      },
      "execution_count": null,
      "outputs": []
    },
    {
      "cell_type": "markdown",
      "source": [
        "✅ 3. Return multiple values (as a tuple)\n",
        "Python functions can return multiple values at once.\n",
        "\n",
        "python\n",
        "Copy code\n"
      ],
      "metadata": {
        "id": "ZdxsF8nk7Gxs"
      }
    },
    {
      "cell_type": "code",
      "source": [
        "def get_info():\n",
        "    name = \"Jitu\"\n",
        "    age = 20\n",
        "    return name, age\n",
        "\n",
        "n, a = get_info()\n",
        "print(n, a)  # Output: Jitu 20\n"
      ],
      "metadata": {
        "id": "8kKp7DTH7IOu"
      },
      "execution_count": null,
      "outputs": []
    },
    {
      "cell_type": "markdown",
      "source": [
        " 4. Return any data type\n",
        "You can return:\n",
        "\n",
        "Numbers: return 42\n",
        "\n",
        "Strings: return \"Hi\"\n",
        "\n",
        "Lists: return [1, 2, 3]\n",
        "\n",
        "Functions or Objects"
      ],
      "metadata": {
        "id": "Oxr-03Z97PjK"
      }
    },
    {
      "cell_type": "markdown",
      "source": [
        "✅ 5. Return None by default\n",
        "If there is no return in a function, it returns None."
      ],
      "metadata": {
        "id": "VvqhNopj7U2p"
      }
    },
    {
      "cell_type": "code",
      "source": [
        "def hello():\n",
        "    print(\"Hi\")\n",
        "\n",
        "x = hello()\n",
        "print(x)  # Output: Hi \\n None\n"
      ],
      "metadata": {
        "id": "Jq9RMx8b7V-1"
      },
      "execution_count": null,
      "outputs": []
    },
    {
      "cell_type": "markdown",
      "source": [
        "🔁 Quick Summary\n",
        "Purpose\tExample\n",
        "Return a value\treturn x + y\n",
        "Exit early\tif condition: return\n",
        "Return multiple values\treturn name, age\n",
        "Return custom types\treturn [1, 2, 3]\n",
        "No return → returns None\tdef f(): pass"
      ],
      "metadata": {
        "id": "0JplkXCA7daY"
      }
    },
    {
      "cell_type": "markdown",
      "source": [
        "5)What are iterators in Python and how do they differ from iterables?"
      ],
      "metadata": {
        "id": "XCLYoco96ZOm"
      }
    },
    {
      "cell_type": "markdown",
      "source": [
        "🔁 1. What is an Iterable in Python?\n",
        "An Iterable is any object that can be looped over (i.e., you can use a for loop with it).\n",
        "\n",
        "✅ Examples of Iterables:\n",
        "list, tuple, str, set, dict, etc."
      ],
      "metadata": {
        "id": "7Eysf9Kk7E_Y"
      }
    },
    {
      "cell_type": "code",
      "source": [
        "nums = [1, 2, 3]\n",
        "for n in nums:\n",
        "    print(n)\n"
      ],
      "metadata": {
        "id": "R10U4wfx70ed"
      },
      "execution_count": null,
      "outputs": []
    },
    {
      "cell_type": "markdown",
      "source": [
        "✔ How it works:\n",
        "An iterable has a method called __iter__() that returns an iterator.\n",
        "\n",
        "🔄 2. What is an Iterator?\n",
        "An Iterator is an object that keeps track of where you are during iteration and gives the next value when you ask for it.\n",
        "\n",
        "✅ Rules of Iterator:\n",
        "Must have two methods:\n",
        "\n",
        "__iter__()\n",
        "\n",
        "__next__()"
      ],
      "metadata": {
        "id": "CslxBhqr7-lQ"
      }
    },
    {
      "cell_type": "code",
      "source": [
        "nums = [10, 20, 30]      # List is iterable\n",
        "it = iter(nums)          # Get an iterator object\n",
        "\n",
        "print(next(it))  # 10\n",
        "print(next(it))  # 20\n",
        "print(next(it))  # 30\n",
        "# print(next(it))  # Raises StopIteration\n"
      ],
      "metadata": {
        "id": "wyiom4mb8BJ2"
      },
      "execution_count": null,
      "outputs": []
    },
    {
      "cell_type": "markdown",
      "source": [
        " 3. Difference: Iterable vs Iterator\n",
        "Feature\tIterable\tIterator\n",
        "Can be looped?\t✅ Yes\t✅ Yes\n",
        "Has __iter__()\t✅ Yes\t✅ Yes\n",
        "Has __next__()\t❌ No (not directly)\t✅ Yes\n",
        "Needs iter() to start iteration\t✅ Yes\t❌ No (already ready)\n",
        "Examples\tlist, tuple, str, dict\tobject returned by iter()\n",
        "\n",
        "🔁 Custom Iterator Example"
      ],
      "metadata": {
        "id": "5A71zEk18Lfe"
      }
    },
    {
      "cell_type": "code",
      "source": [
        "class CountDown:\n",
        "    def __init__(self, start):\n",
        "        self.num = start\n",
        "\n",
        "    def __iter__(self):\n",
        "        return self\n",
        "\n",
        "    def __next__(self):\n",
        "        if self.num <= 0:\n",
        "            raise StopIteration\n",
        "        val = self.num\n",
        "        self.num -= 1\n",
        "        return val\n",
        "\n",
        "cd = CountDown(3)\n",
        "for i in cd:\n",
        "    print(i)\n",
        "# Output: 3, 2, 1\n"
      ],
      "metadata": {
        "id": "kD35HDlW8NVu"
      },
      "execution_count": null,
      "outputs": []
    },
    {
      "cell_type": "markdown",
      "source": [
        "🧠 In Short:\n",
        "Iterable = can be looped over.\n",
        "\n",
        "Iterator = gives values one by one using next()."
      ],
      "metadata": {
        "id": "QbV6z71d8Tuu"
      }
    },
    {
      "cell_type": "markdown",
      "source": [
        "6)Explain the concept of generators in Python and how they are defined."
      ],
      "metadata": {
        "id": "jDUqd9eV8UzE"
      }
    },
    {
      "cell_type": "markdown",
      "source": [
        "⚙️ What is a Generator in Python?\n",
        "A generator is a special type of iterator that allows you to generate values one at a time, only when needed, using the yield keyword instead of return.\n",
        "\n",
        "It’s memory-efficient, especially for large data, because it doesn’t store all values in memory — it yields them one at a time.\n",
        "\n",
        " How to Define a Generator\n",
        " 1. Using a Function with yield"
      ],
      "metadata": {
        "id": "SmhB4e7282LN"
      }
    },
    {
      "cell_type": "code",
      "source": [
        "def count_up_to(n):\n",
        "    i = 1\n",
        "    while i <= n:\n",
        "        yield i\n",
        "        i += 1\n"
      ],
      "metadata": {
        "id": "tby5_FHX83cT"
      },
      "execution_count": null,
      "outputs": []
    },
    {
      "cell_type": "markdown",
      "source": [
        "This function returns a generator object. It doesn’t run immediately — values are produced one-by-one when you use next().\n",
        "\n",
        "▶️ Using the Generator:"
      ],
      "metadata": {
        "id": "aROD3sgt8-Ft"
      }
    },
    {
      "cell_type": "code",
      "source": [
        "gen = count_up_to(3)\n",
        "print(next(gen))  # 1\n",
        "print(next(gen))  # 2\n",
        "print(next(gen))  # 3\n",
        "# next(gen) → StopIteration\n"
      ],
      "metadata": {
        "id": "kVBFrOfH9A8F"
      },
      "execution_count": null,
      "outputs": []
    },
    {
      "cell_type": "markdown",
      "source": [
        "✅ 2. Using a Generator Expression (like list comprehension)"
      ],
      "metadata": {
        "id": "agAJU1cN9G1_"
      }
    },
    {
      "cell_type": "code",
      "source": [
        "gen = (x*x for x in range(3))\n",
        "print(next(gen))  # 0\n",
        "print(next(gen))  # 1\n",
        "print(next(gen))  # 4\n"
      ],
      "metadata": {
        "id": "-p8t5ydL9I3Q"
      },
      "execution_count": null,
      "outputs": []
    },
    {
      "cell_type": "markdown",
      "source": [
        "How yield Works yield pauses the function and remembers its state.\n",
        "\n",
        "The function resumes from where it left off the next time you call next().\n",
        "\n",
        "python Copy code\n",
        "\n"
      ],
      "metadata": {
        "id": "V-qLvnC09qUZ"
      }
    },
    {
      "cell_type": "code",
      "source": [
        "def greet():\n",
        "    yield \"Hello\"\n",
        "    yield \"Hi\"\n",
        "    yield \"Bye\"\n",
        "\n",
        "g = greet()\n",
        "for word in g:\n",
        "    print(word)\n",
        "# Output: Hello, Hi, Bye\n"
      ],
      "metadata": {
        "id": "0cLLQ8bm9NF7"
      },
      "execution_count": null,
      "outputs": []
    },
    {
      "cell_type": "markdown",
      "source": [
        "🔍 Generator vs Normal Function\n",
        "Feature\tNormal Function\tGenerator Function\n",
        "Uses return\t✅ Yes\t❌ No\n",
        "Uses yield\t❌ No\t✅ Yes\n",
        "Returns\tOne final value\tOne value at a time\n",
        "Memory usage\tLoads all values\tLazy evaluation (saves memory)\n",
        "\n",
        "✅ Benefits of Generators\n",
        "🧠 Efficient for large datasets\n",
        "\n",
        "🐍 Pythonic way to stream data\n",
        "\n",
        "⏱️ Faster startup time for big loops\n",
        "\n"
      ],
      "metadata": {
        "id": "npaCPdEz9wbV"
      }
    },
    {
      "cell_type": "markdown",
      "source": [
        "7 )What are the advantages of using generators over regular functions?"
      ],
      "metadata": {
        "id": "C0MG6jO4aLVT"
      }
    },
    {
      "cell_type": "markdown",
      "source": [
        "Generators are special types of iterators that yield items one at a time using the yield keyword instead of returning them all at once.\n",
        "\n",
        "✅ Advantages:\n",
        "Memory Efficient:\n",
        "They don’t store the entire data in memory. Useful for large data sets or infinite sequences.\n",
        "\n",
        "Lazy Evaluation:\n",
        "Values are generated on the fly only when needed, saving time and space.\n",
        "\n",
        "Stateful Iteration:\n",
        "Generators maintain their state between iterations, simplifying logic for sequences.\n",
        "\n",
        "Improved Performance:\n",
        "Since values are computed as needed, execution is often faster when working with large data."
      ],
      "metadata": {
        "id": "n9wl32gwab5f"
      }
    },
    {
      "cell_type": "code",
      "source": [
        "def my_gen():\n",
        "    for i in range(5):\n",
        "        yield i\n",
        "\n",
        "for num in my_gen():\n",
        "    print(num)\n"
      ],
      "metadata": {
        "id": "U-b_ZTeaalND"
      },
      "execution_count": null,
      "outputs": []
    },
    {
      "cell_type": "markdown",
      "source": [
        "8.) What is a lambda function in Python and when is it typically used?"
      ],
      "metadata": {
        "id": "LNoClLL6atPq"
      }
    },
    {
      "cell_type": "markdown",
      "source": [
        "A lambda function is an anonymous (unnamed) function defined using the lambda keyword.\n",
        "\n",
        "✅ Syntax:\n",
        "python\n",
        "Copy\n",
        "Edit\n",
        "lambda arguments: expression\n",
        "✅ When to use:\n",
        "When you need a simple function for short-term use.\n",
        "\n",
        "Especially used with functions like map(), filter(), and sorted().\n",
        "\n",
        "Example:"
      ],
      "metadata": {
        "id": "xGWsykada1NR"
      }
    },
    {
      "cell_type": "code",
      "source": [
        "square = lambda x: x * x\n",
        "print(square(5))  # Output: 25\n"
      ],
      "metadata": {
        "id": "Pi7FKjZBa9yy"
      },
      "execution_count": null,
      "outputs": []
    },
    {
      "cell_type": "markdown",
      "source": [
        "9.) Explain the purpose and usage of the map() function in Python.\n",
        "The map() function applies a function to each item in an iterable (like a list or tuple) and returns a map object (which is iterable).\n",
        "\n",
        "✅ Syntax:\n",
        "python\n",
        "Copy\n",
        "Edit\n"
      ],
      "metadata": {
        "id": "QSV25JTtbFOH"
      }
    },
    {
      "cell_type": "code",
      "source": [
        "map(function, iterable)\n"
      ],
      "metadata": {
        "id": "Ww4-ufAMbHhe"
      },
      "execution_count": null,
      "outputs": []
    },
    {
      "cell_type": "code",
      "source": [
        "def square(x):\n",
        "    return x * x\n",
        "\n",
        "nums = [1, 2, 3]\n",
        "result = map(square, nums)\n",
        "print(list(result))  # Output: [1, 4, 9]\n"
      ],
      "metadata": {
        "id": "_4GL7_epbOjP"
      },
      "execution_count": null,
      "outputs": []
    },
    {
      "cell_type": "markdown",
      "source": [
        "you can also use it with a lambda\n",
        "Edit\n"
      ],
      "metadata": {
        "id": "I9nojSDxbVCn"
      }
    },
    {
      "cell_type": "code",
      "source": [
        "def square(x):\n",
        "    return x * x\n",
        "\n",
        "nums = [1, 2, 3]\n",
        "result = map(square, nums)\n",
        "print(list(result))  # Output: [1, 4, 9]\n"
      ],
      "metadata": {
        "id": "VtN5A2-EbPjV"
      },
      "execution_count": null,
      "outputs": []
    },
    {
      "cell_type": "markdown",
      "source": [
        "10.) What is the difference between map(), reduce(), and filter() functions in Python?\n",
        "Function\tPurpose\tInput\tOutput\tExample Use\n",
        "map()\tApplies a function to all items\tFunction + Iterable\tMap object (each element transformed)\tSquaring numbers in a list\n",
        "filter()\tFilters items based on a condition\tFunction (returns True/False) + Iterable\tFilter object (filtered elements)\tFiltering even numbers\n",
        "reduce() (from functools)\tApplies function cumulatively to reduce to a single value\tFunction + Iterable\tSingle value\tSum of list items\n"
      ],
      "metadata": {
        "id": "X_VUPrhiblyh"
      }
    },
    {
      "cell_type": "code",
      "source": [
        "from functools import reduce\n",
        "\n",
        "# map\n",
        "print(list(map(lambda x: x * 2, [1, 2, 3])))     # [2, 4, 6]\n",
        "\n",
        "# filter\n",
        "print(list(filter(lambda x: x % 2 == 0, [1, 2, 3, 4])))  # [2, 4]\n",
        "\n",
        "# reduce\n",
        "print(reduce(lambda x, y: x + y, [1, 2, 3, 4]))  # 10\n"
      ],
      "metadata": {
        "id": "BARqeEPzbq6T"
      },
      "execution_count": null,
      "outputs": []
    },
    {
      "cell_type": "markdown",
      "source": [
        "10). Using pen & Paper write the internal mechanism for sum operation using  reduce function on this given  list:[47,11,42,13];"
      ],
      "metadata": {
        "id": "HQXLNRsAdSPt"
      }
    },
    {
      "cell_type": "markdown",
      "source": [
        "🔢 Step-by-step mechanism of\n",
        "python\n",
        "Copy\n",
        "Edit\n",
        "from functools import reduce\n",
        "reduce(lambda x, y: x + y, [47, 11, 42, 13])\n",
        "🧠 Internal Working (Pen & Paper style)\n",
        "Let’s call the function step by step:\n",
        "\n",
        "Initial List: [47, 11, 42, 13]\n",
        "🔁 Step 1:\n",
        "x = 47, y = 11\n",
        "→ x + y = 58\n",
        "\n",
        "🔁 Step 2:\n",
        "Now x = 58, y = 42\n",
        "→ x + y = 100\n",
        "\n",
        "🔁 Step 3:\n",
        "Now x = 100, y = 13\n",
        "→ x + y = 113\n",
        "\n",
        "✅ Final Result: 113\n",
        "🔍 Breakdown Table:\n",
        "Step\tx\ty\tx + y\tResult Passed to Next Step\n",
        "1\t47\t11\t58\t58\n",
        "2\t58\t42\t100\t100\n",
        "3\t100\t13\t113\t113\n",
        "\n",
        "💡 Summary:\n",
        "reduce() works like this:\n",
        "\n",
        "css\n",
        "Copy\n",
        "Edit\n",
        "Step 1: f(47, 11) → 58  \n",
        "Step 2: f(58, 42) → 100  \n",
        "Step 3: f(100, 13) → 113  \n",
        "→ Final Output = 113"
      ],
      "metadata": {
        "id": "xLYSHFvndPMA"
      }
    },
    {
      "cell_type": "code",
      "source": [],
      "metadata": {
        "id": "13Wsdw7CReIu"
      },
      "execution_count": null,
      "outputs": []
    },
    {
      "cell_type": "markdown",
      "source": [
        "[link text](https://drive.google.com/file/d/1DeDsYUT_RPWT7PoQky4CL2zlyVo7xC_C/view?usp=drive_link)"
      ],
      "metadata": {
        "id": "CRV0Lp8bRlLH"
      }
    },
    {
      "cell_type": "code",
      "source": [],
      "metadata": {
        "id": "feRythfwRrd4"
      },
      "execution_count": null,
      "outputs": []
    }
  ]
}